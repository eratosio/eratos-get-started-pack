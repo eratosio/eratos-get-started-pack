{
 "cells": [
  {
   "cell_type": "markdown",
   "metadata": {},
   "source": [
    "# 1. Setup Enviroment\n",
    "\n",
    "If this your first time running the notebook\n"
   ]
  },
  {
   "cell_type": "code",
   "execution_count": null,
   "metadata": {},
   "outputs": [],
   "source": [
    "%%capture\n",
    "!pip install https://releases.eratos.com/sdk/python/eratos-python-latest.zip\n",
    "!pip install git+https://github.com/eratosio/eratos-xarray.git\n",
    "!pip install geopandas\n",
    "!pip install slugify\n",
    "\n",
    "print('The Eratos SDK and requred packages are installed')"
   ]
  },
  {
   "cell_type": "markdown",
   "metadata": {},
   "source": [
    "# 2. Import Packages Create Eratos Adapter\n",
    "\n",
    "To access eratos datasets you will need credentials.\n",
    "\n",
    "<a href=\"https://docs.eratos.com/v3.0/docs/generating-an-access-key\" target=\"_blank\">**Click here to get your credentials.**</a>\n",
    "\n",
    "After running the below cell, please Insert the path to your Eratos Development Keys Json file."
   ]
  },
  {
   "cell_type": "code",
   "execution_count": 1,
   "metadata": {},
   "outputs": [],
   "source": [
    "import eratos_file_data\n",
    "import os\n",
    "import json\n",
    "from eratos.errors import CommError\n",
    "from eratos.adapter import Adapter\n",
    "from eratos.creds import AccessTokenCreds\n",
    "import sys\n",
    "\n",
    "creds_path = r\"path to creds.json file\"\n",
    "\n",
    "\n",
    "\n",
    "# Opening JSON file and loading the credentials\n",
    "with open(creds_path, 'r') as f:\n",
    "    creds = json.load(f)\n",
    "\n",
    "# Initializing the adapter with credentials\n",
    "ecreds = AccessTokenCreds(\n",
    "    creds['key'],\n",
    "    creds['secret']\n",
    ")\n",
    "\n",
    "eratos_adapter = Adapter(ecreds)\n",
    "\n"
   ]
  },
  {
   "cell_type": "markdown",
   "metadata": {},
   "source": [
    "# 3. View Files in an Eratos Space"
   ]
  },
  {
   "cell_type": "code",
   "execution_count": null,
   "metadata": {},
   "outputs": [],
   "source": [
    "# Copy from Space in Eratos Workspace\n",
    "space_ern = \"ern:e-pn.io:resource:K655Y7JFXU52VH5OJZG55AMM\"\n",
    "\n",
    "eratos_file_data.view_all_data_in_space(eratos_adapter, space_ern,  show_block_ern=True)"
   ]
  },
  {
   "cell_type": "markdown",
   "metadata": {},
   "source": [
    "# 4. Download Files in an Eratos Space\n",
    "\n",
    "### 4.1 Download Files in a Dataset"
   ]
  },
  {
   "cell_type": "code",
   "execution_count": null,
   "metadata": {},
   "outputs": [],
   "source": [
    "# 4.1 Download Files in a Dataset\n",
    "block_ern = \"ern:e-pn.io:resource:frdc.blocks.afas-2023\"\n",
    "\n",
    "eratos_file_data.download_files_in_dataset(eratos_adapter, block_ern,  destination = '.')\n",
    "\n"
   ]
  },
  {
   "cell_type": "markdown",
   "metadata": {},
   "source": [
    "### 4.2 Download all files in an Eratos Space"
   ]
  },
  {
   "cell_type": "code",
   "execution_count": null,
   "metadata": {},
   "outputs": [],
   "source": [
    "# 4.2 Download all files in a space\n",
    "\n",
    "# Copy from Space in Eratos Workspace\n",
    "space_ern = \"ern:e-pn.io:resource:K655Y7JFXU52VH5OJZG55AMM\"\n",
    "\n",
    "eratos_file_data.download_all_files_from_space(eratos_adapter, space_ern,destination = '.')"
   ]
  }
 ],
 "metadata": {
  "kernelspec": {
   "display_name": "eratoslabs",
   "language": "python",
   "name": "python3"
  },
  "language_info": {
   "codemirror_mode": {
    "name": "ipython",
    "version": 3
   },
   "file_extension": ".py",
   "mimetype": "text/x-python",
   "name": "python",
   "nbconvert_exporter": "python",
   "pygments_lexer": "ipython3",
   "version": "3.10.4"
  }
 },
 "nbformat": 4,
 "nbformat_minor": 2
}
