{
 "cells": [
  {
   "cell_type": "markdown",
   "metadata": {},
   "source": [
    "# 1. Setup Enviroment\n",
    "\n",
    "If this your first time running the notebook\n"
   ]
  },
  {
   "cell_type": "code",
   "execution_count": 2,
   "metadata": {},
   "outputs": [
    {
     "name": "stdout",
     "output_type": "stream",
     "text": [
      "^C\n"
     ]
    }
   ],
   "source": [
    "%%capture\n",
    "!pip install https://releases.eratos.com/sdk/python/eratos-python-latest.zip\n",
    "!pip install git+https://github.com/eratosio/eratos-xarray.git\n",
    "!pip install geopandas\n",
    "!pip install slugify\n",
    "print('The Eratos SDK and requred packages are installed')"
   ]
  },
  {
   "cell_type": "markdown",
   "metadata": {},
   "source": [
    "# 2. Import Packages Create Eratos Adapter\n",
    "\n",
    "To access eratos datasets you will need credentials.\n",
    "\n",
    "<a href=\"https://docs.eratos.com/v3.0/docs/generating-an-access-key\" target=\"_blank\">**Click here to get your credentials.**</a>\n",
    "\n",
    "After running the below cell, please Insert the path to your Eratos Development Keys Json file."
   ]
  },
  {
   "cell_type": "code",
   "execution_count": 1,
   "metadata": {},
   "outputs": [],
   "source": [
    "import eratos_file_data\n",
    "import os\n",
    "import json\n",
    "from eratos.errors import CommError\n",
    "from eratos.adapter import Adapter\n",
    "from eratos.creds import AccessTokenCreds\n",
    "import sys\n",
    "\n",
    "creds_path = r\"PATH TO YOUR CREDS\"\n",
    "# Opening JSON file and loading the credentials\n",
    "with open(creds_path, 'r') as f:\n",
    "    creds = json.load(f)\n",
    "\n",
    "# Initializing the adapter with credentials\n",
    "ecreds = AccessTokenCreds(\n",
    "    creds['key'],\n",
    "    creds['secret']\n",
    ")\n",
    "eratos_adapter = Adapter(ecreds)\n",
    "\n"
   ]
  },
  {
   "cell_type": "markdown",
   "metadata": {},
   "source": [
    "# 3. View Files in an Eratos Space"
   ]
  },
  {
   "cell_type": "code",
   "execution_count": 2,
   "metadata": {},
   "outputs": [
    {
     "name": "stdout",
     "output_type": "stream",
     "text": [
      "AFAS 2023 (block_ern: ern:e-pn.io:resource:frdc.blocks.afas-2023):\n",
      "    - AFAS 2023.xlsx\n",
      "Australian Fish Names Standard (block_ern: ern:e-pn.io:resource:frdc.blocks.australian-fish-names-standard):\n",
      "    - australian-fish-names-standard.json\n",
      "FRDC List of Australian Fisheries & Aquaculture Sectors as at 2014 (block_ern: ern:e-pn.io:resource:frdc.blocks.frdc-list-of-australian-fisheries-aquaculture-sectors-as-at-2014):\n",
      "    - FRDC List of Australian Fisheries & Aquaculture Sectors as at 2014.xlsx\n",
      "FRDC Trade Data (block_ern: ern:e-pn.io:resource:frdc.blocks.frdc-trade-data):\n",
      "    - FRDC Trade Data.xlsx\n",
      "Status of Australian Fish Stocks - Fishing Gear (block_ern: ern:e-pn.io:resource:frdc.blocks.status-of-australian-fish-stocks-fishing-gear):\n",
      "    - data.json\n",
      "    - status-of-australian-fish-stocks-fishing-gear.json\n",
      "Trade - Species ML (block_ern: ern:e-pn.io:resource:frdc.blocks.trade-species-ml):\n",
      "    - Trade - Species ML.xlsx\n"
     ]
    }
   ],
   "source": [
    "# Copy from Space in Eratos Workspace\n",
    "space_ern = \"ern:e-pn.io:resource:HKJVCJWNVGMJQBFLQLV2AQ7E\"\n",
    "\n",
    "eratos_file_data.view_all_data_in_space(eratos_adapter,space_ern,  show_block_ern=True)"
   ]
  },
  {
   "cell_type": "markdown",
   "metadata": {},
   "source": [
    "# 4. Download Files in an Eratos Space\n",
    "\n",
    "### 4.1 Download Files in a Dataset"
   ]
  },
  {
   "cell_type": "code",
   "execution_count": 5,
   "metadata": {},
   "outputs": [
    {
     "name": "stdout",
     "output_type": "stream",
     "text": [
      "AFAS 2023\n",
      "Downloaded:  AFAS 2023.xlsx\n"
     ]
    }
   ],
   "source": [
    "# 4.1 Download Files in a Dataset\n",
    "block_ern = \"ern:e-pn.io:resource:frdc.blocks.afas-2023\"\n",
    "\n",
    "eratos_file_data.download_files_in_dataset(eratos_adapter, block_ern,  destination = '.')\n",
    "\n"
   ]
  },
  {
   "cell_type": "markdown",
   "metadata": {},
   "source": [
    "### 4.2 Download all files in an Eratos Space"
   ]
  },
  {
   "cell_type": "code",
   "execution_count": 6,
   "metadata": {},
   "outputs": [
    {
     "name": "stdout",
     "output_type": "stream",
     "text": [
      "AFAS 2023\n",
      "Downloaded:  AFAS 2023.xlsx\n",
      "Australian Fish Names Standard\n",
      "Downloaded:  australian-fish-names-standard.json\n",
      "FRDC List of Australian Fisheries & Aquaculture Sectors as at 2014\n",
      "Downloaded:  FRDC List of Australian Fisheries & Aquaculture Sectors as at 2014.xlsx\n",
      "FRDC Trade Data\n",
      "Downloaded:  FRDC Trade Data.xlsx\n",
      "Status of Australian Fish Stocks - Fishing Gear\n",
      "Downloaded:  data.json\n",
      "Downloaded:  status-of-australian-fish-stocks-fishing-gear.json\n",
      "Trade - Species ML\n",
      "Downloaded:  Trade - Species ML.xlsx\n"
     ]
    }
   ],
   "source": [
    "# 4.2 Download all files in a space\n",
    "\n",
    "# Copy from Space in Eratos Workspace\n",
    "space_ern = \"ern:e-pn.io:resource:HKJVCJWNVGMJQBFLQLV2AQ7E\"\n",
    "\n",
    "eratos_file_data.download_all_files_from_space(eratos_adapter, space_ern,destination = '.')"
   ]
  }
 ],
 "metadata": {
  "kernelspec": {
   "display_name": "eratoslabs",
   "language": "python",
   "name": "python3"
  },
  "language_info": {
   "codemirror_mode": {
    "name": "ipython",
    "version": 3
   },
   "file_extension": ".py",
   "mimetype": "text/x-python",
   "name": "python",
   "nbconvert_exporter": "python",
   "pygments_lexer": "ipython3",
   "version": "3.10.4"
  }
 },
 "nbformat": 4,
 "nbformat_minor": 2
}
